{
 "cells": [
  {
   "cell_type": "code",
   "execution_count": 1,
   "metadata": {},
   "outputs": [
    {
     "data": {
      "text/html": [
       "<h3>Version Information</h3><table><tr><th>Qiskit Software</th><th>Version</th></tr><tr><td><code>qiskit-terra</code></td><td>0.23.2</td></tr><tr><td><code>qiskit-aer</code></td><td>0.11.2</td></tr><tr><td><code>qiskit-ibmq-provider</code></td><td>0.20.1</td></tr><tr><td><code>qiskit</code></td><td>0.41.1</td></tr><tr><th>System information</th></tr><tr><td>Python version</td><td>3.10.9</td></tr><tr><td>Python compiler</td><td>Clang 14.0.6 </td></tr><tr><td>Python build</td><td>main, Mar  1 2023 12:33:47</td></tr><tr><td>OS</td><td>Darwin</td></tr><tr><td>CPUs</td><td>4</td></tr><tr><td>Memory (Gb)</td><td>16.0</td></tr><tr><td colspan='2'>Fri Apr 28 15:08:04 2023 PDT</td></tr></table>"
      ],
      "text/plain": [
       "<IPython.core.display.HTML object>"
      ]
     },
     "metadata": {},
     "output_type": "display_data"
    }
   ],
   "source": [
    "import numpy as np\n",
    "import scipy\n",
    "import sympy as sp\n",
    "\n",
    "import plotly.graph_objects as go\n",
    "from qiskit.opflow import I, X, Y, Z, H\n",
    "\n",
    "from qaoa import *\n",
    "\n",
    "import qiskit.tools.jupyter\n",
    "%qiskit_version_table\n",
    "\n",
    "import pickle\n",
    "import time\n",
    "import warnings\n",
    "warnings.filterwarnings(\"ignore\")"
   ]
  },
  {
   "cell_type": "code",
   "execution_count": 2,
   "metadata": {},
   "outputs": [],
   "source": [
    "def graph_energy(res, energy, points = None):\n",
    "    s = np.linspace(0, 2 * np.pi, res + 1)[:-1]\n",
    "    \n",
    "    fig = go.Figure(data=[\n",
    "            go.Surface(x=s, y=s, z=energy, showscale=False,\n",
    "                       colorscale='Viridis')])\n",
    "\n",
    "    \n",
    "    if points is not None:\n",
    "        px, py, p_energy = points\n",
    "        fig.add_trace(go.Scatter3d(x=px, y=py, z=p_energy,\n",
    "                                   mode='markers'))\n",
    "\n",
    "    fig.update_scenes(\n",
    "        xaxis_title='Gamma',\n",
    "        yaxis_title='Beta',\n",
    "        zaxis_title='Energy'\n",
    "    )\n",
    "\n",
    "    fig.update_layout(title='p = 1 Energy Landscape',\n",
    "                    autosize=False,\n",
    "                    width=1000, height=700,\n",
    "                    )\n",
    "    fig.show()"
   ]
  },
  {
   "cell_type": "code",
   "execution_count": 3,
   "metadata": {},
   "outputs": [
    {
     "data": {
      "text/plain": [
       "driver:\n",
       "4.0 * IIII\n",
       "+ 2.0 * IIZZ\n",
       "+ 1.0 * IZIZ\n",
       "+ 1.0 * IZZI\n",
       "+ 4.0 * IIIZ\n",
       "- 1.0 * IIZI\n",
       "+ 3.0 * IZII\n",
       "- 2.0 * ZIII\n",
       "mixer:\n",
       "1.0 * IIIY\n",
       "+ 1.0 * IIYI\n",
       "+ 1.0 * IYII\n",
       "+ 1.0 * YIII\n",
       "target:\n",
       "1.0 * IIII\n",
       "+ 0.5 * IIZZ\n",
       "+ 0.25 * IZIZ\n",
       "+ 0.25 * IZZI\n",
       "+ 1.0 * IIIZ\n",
       "- 0.25 * IIZI\n",
       "+ 0.75 * IZII\n",
       "- 0.5 * ZIII\n",
       "+ 0.25 * IIIY\n",
       "+ 0.25 * IIYI\n",
       "+ 0.25 * IYII\n",
       "+ 0.25 * YIII"
      ]
     },
     "execution_count": 3,
     "metadata": {},
     "output_type": "execute_result"
    }
   ],
   "source": [
    "\"\"\"\n",
    "Schwinger\n",
    "\"\"\"\n",
    "select = {'N': 4, #qubits\n",
    "          'g' : 1,  #coupling\n",
    "          'm' : 1,  #bare mass\n",
    "          'a' : 1, #lattice spacing\n",
    "          'theta' : 0, #topological term\n",
    "          'mixer_type' : 'Y', # type of mixer {'X', 'Y', 'XY'}\n",
    "         }\n",
    "\n",
    "model = QuantumModel('schwinger', 'Standard')\n",
    "\n",
    "\n",
    "ham = model.make(select)\n",
    "schwinger_target = ham.target\n",
    "ham"
   ]
  },
  {
   "cell_type": "code",
   "execution_count": 4,
   "metadata": {},
   "outputs": [],
   "source": [
    "def find_landscape_minimas(landscape, filter = True):\n",
    "    less_right = landscape <= np.roll(landscape, 1 , 0)\n",
    "    less_left = landscape <= np.roll(landscape, -1 , 0)\n",
    "    less_gamma = np.logical_and(less_right, less_left)\n",
    "\n",
    "    less_bottom = landscape <= np.roll(landscape, 1 , 1)\n",
    "    less_top = landscape <= np.roll(landscape, -1 , 1)\n",
    "    less_beta = np.logical_and(less_bottom, less_top)\n",
    "\n",
    "    minimas = np.logical_and(less_gamma, less_beta)\n",
    "\n",
    "    res = landscape.shape[0]\n",
    "    s = np.linspace(0, 2 * np.pi, res + 1)[:-1]\n",
    "\n",
    "    x, y = np.meshgrid([s], [s])\n",
    "    min_x = x[minimas]\n",
    "    min_y = y[minimas]\n",
    "    min_energy = landscape[minimas]\n",
    "\n",
    "    if filter:\n",
    "        filtered = min_energy <= np.mean(min_energy)\n",
    "        min_x = min_x[filtered]\n",
    "        min_y = min_y[filtered]\n",
    "        min_energy = min_energy[filtered]\n",
    "\n",
    "    return np.vstack([min_x, min_y, min_energy])"
   ]
  },
  {
   "cell_type": "code",
   "execution_count": 5,
   "metadata": {},
   "outputs": [],
   "source": [
    "class ParametersNode:\n",
    "    def __init__(self, \n",
    "                 parameters,\n",
    "                 energy):\n",
    "        \n",
    "        self.parameters = parameters\n",
    "        self.energy = energy\n",
    "\n",
    "        self.id = tuple(np.round(parameters, 4))\n",
    "\n",
    "        self.p = len(parameters) // 2\n",
    "\n",
    "        self.gammas = parameters[::2]\n",
    "        self.betas = parameters[1::2]\n",
    "\n",
    "        self.layer = None\n",
    "\n",
    "        self.prev = {}\n",
    "        self.next = {}\n",
    "\n",
    "    def optimize_next(self, \n",
    "                      energy_fn, \n",
    "                      initial_parameters):\n",
    "        \n",
    "        next_p = len(initial_parameters) // 2\n",
    "        \n",
    "        next_min = scipy.optimize.minimize(\n",
    "                                    fun = lambda x: energy_fn(*x), \n",
    "                                    x0 = initial_parameters,\n",
    "                                    bounds = [[0, 2 * np.pi] for _ in range(next_p * 2)],\n",
    "                                    tol = 1e-6)\n",
    "        \n",
    "        next_parameters = next_min.x\n",
    "        next_energy = next_min.fun\n",
    "        next_node = ParametersNode(next_parameters,\n",
    "                                   next_energy)\n",
    "        \n",
    "        return next_node\n",
    "\n",
    "class NodeLayer:\n",
    "    def __init__(self):\n",
    "        self.nodes = {}\n",
    "        self.num_nodes = 0\n",
    "\n",
    "        self.prev = None\n",
    "        self.next = None\n",
    "\n",
    "    def optimize_next(self, energy_fn, parameter_fn):\n",
    "        for node in self.nodes.values():\n",
    "            initial_parameters = parameter_fn(node.parameters)\n",
    "            \n",
    "            new_node = node.optimize_next(energy_fn, initial_parameters)\n",
    "\n",
    "            if self.next is None:\n",
    "                self.next = NodeLayer()\n",
    "                self.next.prev = self\n",
    "\n",
    "            # if parameter already exists, throw away current node and reference to originally created node\n",
    "            if new_node.id in self.next.nodes.keys():\n",
    "                new_node = self.next.nodes[new_node.id]\n",
    "            else:\n",
    "                self.next.add_node(new_node)\n",
    "\n",
    "            node.next[new_node.id] = new_node\n",
    "            new_node.prev[node.id] = node\n",
    "\n",
    "    def add_node(self, new_node: ParametersNode):\n",
    "        self.nodes[new_node.id] = new_node\n",
    "        self.num_nodes = len(self.nodes)"
   ]
  },
  {
   "cell_type": "code",
   "execution_count": 6,
   "metadata": {},
   "outputs": [],
   "source": [
    "def find_minimas(hamiltonian, \n",
    "                 verbose = True):\n",
    "    \n",
    "    start = time.time()\n",
    "    layers = []\n",
    "\n",
    "    ### Find p = 1 minimas ###\n",
    "\n",
    "    symqaoa = QAOA_Sympy(ham, p=1)\n",
    "\n",
    "    if verbose: print(f\"Making p = 1 Expectation {time.time() - start}\")\n",
    "    symqaoa.make()\n",
    "\n",
    "    if verbose: print(f\"Making p = 1 Landscape {time.time() - start}\")\n",
    "    sym_energies = symqaoa.energy_landscape(res=128)\n",
    "\n",
    "    energy_minimas = find_landscape_minimas(sym_energies)\n",
    "\n",
    "    energy_min_x, energy_min_y, min_energies = energy_minimas\n",
    "\n",
    "    minimas = []\n",
    "\n",
    "    for x, y in zip(energy_min_x, energy_min_y):\n",
    "        minimas.append(scipy.optimize.minimize(fun = lambda x: symqaoa.energy(*x), \n",
    "                                x0 = [x, y],\n",
    "                                bounds = [[0, 2 * np.pi] for _ in range(2)]))\n",
    "        \n",
    "    avg_energy = 0\n",
    "    for minima in minimas:\n",
    "        avg_energy += minima.fun \n",
    "    avg_energy /= len(minimas)\n",
    "\n",
    "    minimas = [minima for minima in minimas if minima.fun < avg_energy]\n",
    "\n",
    "    layers.append(NodeLayer())\n",
    "\n",
    "\n",
    "    if verbose:print(\"\\np = 1 energies:\")\n",
    "    for minima in minimas:\n",
    "        if verbose: print(f\"{minima.fun}\")\n",
    "        node = ParametersNode(minima.x, minima.fun)\n",
    "        layers[0].add_node(node)\n",
    "    if verbose:print(\"\")\n",
    "\n",
    "    ### Find p = 2 minimas ###\n",
    "\n",
    "    if verbose: print(f\"Making p = 2 Expectation {time.time() - start}\")\n",
    "    symqaoa.add_round()\n",
    "    symqaoa.make_expectation()\n",
    "    \n",
    "    def perturb_params(perturbation):\n",
    "        def parameter_fn(parameters):\n",
    "            new_parameters = np.hstack([parameters, parameters])\n",
    "            return new_parameters + perturbation\n",
    "        return parameter_fn\n",
    "    \n",
    "    if verbose: print(f\"Optimizing p = 2 {time.time() - start}\")\n",
    "    magnitudes = [0.2, 1]\n",
    "    for magnitude in magnitudes:\n",
    "        perturbations = [0, magnitude, -magnitude]\n",
    "        for pgamma in perturbations:\n",
    "            for pbeta in perturbations:\n",
    "                parameter_fn = perturb_params(np.array([0, 0, pgamma, pbeta]))\n",
    "                layers[0].optimize_next(symqaoa.energy, parameter_fn)\n",
    "\n",
    "    layers.append(NodeLayer())\n",
    "\n",
    "    prior_min_energy = min([node.energy for node in layers[0].nodes.values()])\n",
    "\n",
    "    if verbose: print(\"\\np = 2 energies:\")\n",
    "    for node in layers[0].next.nodes.values():\n",
    "        if node.energy <= prior_min_energy:\n",
    "            if verbose: print(node.energy)\n",
    "            layers[1].add_node(node)\n",
    "    if verbose: print(\"\")\n",
    "\n",
    "    ### Find p >= 3 minimas ###\n",
    "\n",
    "    def interpolate_params(parameters):\n",
    "        p = len(parameters) // 2\n",
    "        gammas, betas = parameters[::2], parameters[1::2]\n",
    "\n",
    "        x_fit = np.linspace(0, 1, p)\n",
    "        x_poly = np.linspace(0, 1, p + 1)\n",
    "\n",
    "        gamma_interp = np.interp(x_poly, x_fit, gammas)\n",
    "        beta_interp = np.interp(x_poly, x_fit, betas)\n",
    "        new_parameters = np.array([val for pair in zip(gamma_interp, beta_interp) for val in pair])\n",
    "        return new_parameters\n",
    "\n",
    "    def fit_params(parameters):\n",
    "        p = len(parameters) // 2\n",
    "        gammas, betas = parameters[::2], parameters[1::2]\n",
    "\n",
    "        x_fit = np.linspace(0, 1, p)\n",
    "        x_poly = np.linspace(0, 1, p + 1)\n",
    "\n",
    "        gamma_fit = np.poly1d(np.polyfit(x_fit, gammas, 2))\n",
    "        beta_fit = np.poly1d(np.polyfit(x_fit, betas, 2))\n",
    "\n",
    "        new_parameters = np.array([val for pair in zip(gamma_fit(x_poly), beta_fit(x_poly)) for val in pair])\n",
    "        return new_parameters\n",
    "    \n",
    "    numqaoa = QAOA_Numpy(ham)\n",
    "    \n",
    "    for i in range(1, 4):\n",
    "        layers[i].optimize_next(numqaoa.energy, fit_params)\n",
    "        layers[i].optimize_next(numqaoa.energy, interpolate_params)\n",
    "\n",
    "        layers.append(NodeLayer())\n",
    "\n",
    "        prior_min_energy = min([node.energy for node in layers[i].nodes.values()])\n",
    "\n",
    "        if verbose: print(f\"\\np = {i + 1} energies:\")\n",
    "        for node in layers[i].next.nodes.values():\n",
    "            if node.energy <= prior_min_energy:\n",
    "                if verbose: print(node.energy)\n",
    "                layers[i + 1].add_node(node)\n",
    "        if verbose: print(\"\")\n",
    "\n",
    "    return layers"
   ]
  },
  {
   "cell_type": "code",
   "execution_count": 7,
   "metadata": {},
   "outputs": [
    {
     "name": "stdout",
     "output_type": "stream",
     "text": [
      "Making p = 1 Expectation 0.6083781719207764\n",
      "Making p = 1 Landscape 11.757657051086426\n",
      "\n",
      "p = 1 energies:\n",
      "-2.07964928701366\n",
      "-2.0796492870136576\n",
      "-2.0796492870136616\n",
      "-2.0796492870136487\n",
      "\n",
      "Making p = 2 Expectation 20.8154559135437\n",
      "Optimizing p = 2 134.863135099411\n",
      "\n",
      "p = 2 energies:\n",
      "-2.081283546201762\n",
      "-2.081283541773093\n",
      "-2.0803956734008016\n",
      "-2.0864960522815146\n",
      "-2.113208029285451\n",
      "-2.113208128064059\n",
      "-2.1132081279380857\n",
      "-2.1132081204032422\n",
      "-2.113208127701066\n",
      "-2.091840212791278\n",
      "-2.109174241721617\n",
      "-2.1091744238847534\n",
      "-2.1091744056193855\n",
      "-2.109174404070279\n",
      "-2.0797336917617453\n",
      "-2.0797336917621614\n",
      "\n"
     ]
    }
   ],
   "source": [
    "layers = find_minimas(ham)"
   ]
  },
  {
   "cell_type": "code",
   "execution_count": 18,
   "metadata": {},
   "outputs": [
    {
     "data": {
      "text/plain": [
       "[<__main__.NodeLayer at 0x7fa66efc9840>,\n",
       " <__main__.NodeLayer at 0x7fa66ee1bca0>]"
      ]
     },
     "execution_count": 18,
     "metadata": {},
     "output_type": "execute_result"
    }
   ],
   "source": [
    "layers"
   ]
  },
  {
   "cell_type": "code",
   "execution_count": 55,
   "metadata": {},
   "outputs": [
    {
     "name": "stdout",
     "output_type": "stream",
     "text": [
      "Fit p = 7\n",
      "Interpolate p = 7\n",
      "\n",
      "p = 6 energies:\n",
      "-2.1558553599335792\n",
      "-2.155887944159434\n",
      "-2.1558883688381383\n",
      "-2.1558906597753302\n",
      "-2.1558827654058907\n",
      "-2.1558695793653473\n",
      "-2.1558549261576854\n",
      "-2.1559030225913727\n",
      "-2.155851671448172\n",
      "-2.1559501814455233\n",
      "\n",
      "-2.1559501814455233\n",
      "Fit p = 8\n",
      "Interpolate p = 8\n",
      "\n",
      "p = 7 energies:\n",
      "-2.1559656974499584\n",
      "\n",
      "-2.1559656974499584\n",
      "Fit p = 9\n",
      "Interpolate p = 9\n",
      "\n",
      "p = 8 energies:\n",
      "\n",
      "-2.155857707711967\n",
      "Fit p = 10\n",
      "Interpolate p = 10\n"
     ]
    },
    {
     "ename": "ValueError",
     "evalue": "min() arg is an empty sequence",
     "output_type": "error",
     "traceback": [
      "\u001b[0;31m---------------------------------------------------------------------------\u001b[0m",
      "\u001b[0;31mValueError\u001b[0m                                Traceback (most recent call last)",
      "Cell \u001b[0;32mIn[55], line 38\u001b[0m\n\u001b[1;32m     34\u001b[0m layers[i]\u001b[39m.\u001b[39moptimize_next(numqaoa\u001b[39m.\u001b[39menergy, interpolate_params)\n\u001b[1;32m     36\u001b[0m layers\u001b[39m.\u001b[39mappend(NodeLayer())\n\u001b[0;32m---> 38\u001b[0m prior_min_energy \u001b[39m=\u001b[39m \u001b[39mmin\u001b[39;49m([node\u001b[39m.\u001b[39;49menergy \u001b[39mfor\u001b[39;49;00m node \u001b[39min\u001b[39;49;00m layers[i]\u001b[39m.\u001b[39;49mnodes\u001b[39m.\u001b[39;49mvalues()])\n\u001b[1;32m     40\u001b[0m \u001b[39mif\u001b[39;00m verbose: \u001b[39mprint\u001b[39m(\u001b[39mf\u001b[39m\u001b[39m\"\u001b[39m\u001b[39m\\n\u001b[39;00m\u001b[39mp = \u001b[39m\u001b[39m{\u001b[39;00mi\u001b[39m \u001b[39m\u001b[39m+\u001b[39m\u001b[39m \u001b[39m\u001b[39m1\u001b[39m\u001b[39m}\u001b[39;00m\u001b[39m energies:\u001b[39m\u001b[39m\"\u001b[39m)\n\u001b[1;32m     41\u001b[0m \u001b[39mfor\u001b[39;00m node \u001b[39min\u001b[39;00m layers[i]\u001b[39m.\u001b[39mnext\u001b[39m.\u001b[39mnodes\u001b[39m.\u001b[39mvalues():\n",
      "\u001b[0;31mValueError\u001b[0m: min() arg is an empty sequence"
     ]
    }
   ],
   "source": [
    "def interpolate_params(parameters):\n",
    "        p = len(parameters) // 2\n",
    "        gammas, betas = parameters[::2], parameters[1::2]\n",
    "\n",
    "        x_fit = np.linspace(0, 1, p)\n",
    "        x_poly = np.linspace(0, 1, p + 1)\n",
    "\n",
    "        gamma_interp = np.interp(x_poly, x_fit, gammas)\n",
    "        beta_interp = np.interp(x_poly, x_fit, betas)\n",
    "        new_parameters = np.array([val for pair in zip(gamma_interp, beta_interp) for val in pair])\n",
    "        return new_parameters\n",
    "\n",
    "def fit_params(parameters):\n",
    "    p = len(parameters) // 2\n",
    "    gammas, betas = parameters[::2], parameters[1::2]\n",
    "\n",
    "    x_fit = np.linspace(0, 1, p)\n",
    "    x_poly = np.linspace(0, 1, p + 1)\n",
    "\n",
    "    gamma_fit = np.poly1d(np.polyfit(x_fit, gammas, 2))\n",
    "    beta_fit = np.poly1d(np.polyfit(x_fit, betas, 2))\n",
    "\n",
    "    new_parameters = np.array([val for pair in zip(gamma_fit(x_poly), beta_fit(x_poly)) for val in pair])\n",
    "    return new_parameters\n",
    "\n",
    "numqaoa = QAOA_Numpy(ham)\n",
    "\n",
    "verbose = True\n",
    "\n",
    "for i in range(5, 20):\n",
    "    if verbose: print(f\"Fit p = {i + 2}\")\n",
    "    layers[i].optimize_next(numqaoa.energy, fit_params)\n",
    "    if verbose: print(f\"Interpolate p = {i + 2}\")\n",
    "    layers[i].optimize_next(numqaoa.energy, interpolate_params)\n",
    "\n",
    "    layers.append(NodeLayer())\n",
    "\n",
    "    prior_min_energy = min([node.energy for node in layers[i].nodes.values()])\n",
    "\n",
    "    if verbose: print(f\"\\np = {i + 1} energies:\")\n",
    "    for node in layers[i].next.nodes.values():\n",
    "        if node.energy < prior_min_energy:\n",
    "            if verbose: print(node.energy)\n",
    "            layers[i + 1].add_node(node)\n",
    "    if verbose: print(\"\")\n",
    "\n",
    "    print(min([node.energy for node in layers[i].next.nodes.values()]))\n",
    "\n",
    "    with open('data', 'wb') as f:\n",
    "        pickle.dump(layers,f)"
   ]
  },
  {
   "cell_type": "code",
   "execution_count": 104,
   "metadata": {},
   "outputs": [],
   "source": [
    "converged_parameters = []\n",
    "converged_energies = []\n",
    "\n",
    "def find_converged_parameters(node):\n",
    "    converged_energies.append(node.energy)\n",
    "    converged_parameters.append(node.parameters)\n",
    "    if node.p > 1:\n",
    "        for node in node.prev.values():\n",
    "            find_converged_parameters(node)\n",
    "            \n",
    "\n",
    "for i, node in enumerate(layers[7].next.nodes.values()):\n",
    "        if i == 1:\n",
    "            find_converged_parameters(node)"
   ]
  },
  {
   "cell_type": "code",
   "execution_count": 105,
   "metadata": {},
   "outputs": [
    {
     "data": {
      "text/plain": [
       "[-2.155857707711967,\n",
       " -2.1559656974499584,\n",
       " -2.1558553599335792,\n",
       " -2.155522553277559,\n",
       " -2.154824109487455,\n",
       " -2.1309447572121893,\n",
       " -2.120272801847749,\n",
       " -2.109174241721617,\n",
       " -2.07964928701366]"
      ]
     },
     "execution_count": 105,
     "metadata": {},
     "output_type": "execute_result"
    }
   ],
   "source": [
    "converged_energies"
   ]
  },
  {
   "cell_type": "code",
   "execution_count": 106,
   "metadata": {},
   "outputs": [
    {
     "data": {
      "text/plain": [
       "array([1.87232156e-03, 1.63165820e-04, 1.90947989e-03, 7.17681748e-03,\n",
       "       1.82311013e-02, 3.96170086e-01, 5.65075337e-01, 7.40732470e-01,\n",
       "       1.20802452e+00])"
      ]
     },
     "execution_count": 106,
     "metadata": {},
     "output_type": "execute_result"
    }
   ],
   "source": [
    "def closeness_to_ground(val):\n",
    "    return 1 - (ham.eigen_values()[-1] - val) / (ham.eigen_values()[-1] - ham.eigen_values()[0])\n",
    "\n",
    "closeness_to_ground(np.array(converged_energies)) * 100"
   ]
  },
  {
   "cell_type": "code",
   "execution_count": 33,
   "metadata": {},
   "outputs": [
    {
     "data": {
      "text/plain": [
       "-2.1559760067703464"
      ]
     },
     "execution_count": 33,
     "metadata": {},
     "output_type": "execute_result"
    }
   ],
   "source": [
    "ham.eigen_values()[0]"
   ]
  },
  {
   "cell_type": "code",
   "execution_count": 131,
   "metadata": {},
   "outputs": [
    {
     "name": "stdout",
     "output_type": "stream",
     "text": [
      "1\n",
      "2\n",
      "3\n",
      "4\n",
      "5\n",
      "6\n",
      "7\n",
      "8\n",
      "9\n"
     ]
    },
    {
     "data": {
      "application/vnd.plotly.v1+json": {
       "config": {
        "plotlyServerURL": "https://plot.ly"
       },
       "data": [
        {
         "line": {
          "color": "red"
         },
         "mode": "lines",
         "opacity": 0.000016935087808430282,
         "type": "scatter",
         "x": [
          0
         ],
         "y": [
          1.602479594611198
         ]
        },
        {
         "line": {
          "color": "blue"
         },
         "mode": "lines",
         "opacity": 0.000016935087808430282,
         "type": "scatter",
         "x": [
          0
         ],
         "y": [
          2.351693602969242
         ]
        },
        {
         "line": {
          "color": "red"
         },
         "mode": "lines",
         "opacity": 0.000541922809869769,
         "type": "scatter",
         "x": [
          0,
          1
         ],
         "y": [
          1.5691933044517077,
          0.20742230057422317
         ]
        },
        {
         "line": {
          "color": "blue"
         },
         "mode": "lines",
         "opacity": 0.000541922809869769,
         "type": "scatter",
         "x": [
          0,
          1
         ],
         "y": [
          2.477500445484852,
          3.141833000314064
         ]
        },
        {
         "line": {
          "color": "red"
         },
         "mode": "lines",
         "opacity": 0.004115226337448558,
         "type": "scatter",
         "x": [
          0,
          0.5,
          1
         ],
         "y": [
          1.5785545369754892,
          0.8300110466998234,
          0.2204164134353918
         ]
        },
        {
         "line": {
          "color": "blue"
         },
         "mode": "lines",
         "opacity": 0.004115226337448558,
         "type": "scatter",
         "x": [
          0,
          0.5,
          1
         ],
         "y": [
          2.32036285345593,
          3.2683075827413814,
          3.1409010659875496
         ]
        },
        {
         "line": {
          "color": "red"
         },
         "mode": "lines",
         "opacity": 0.01734152991583261,
         "type": "scatter",
         "x": [
          0,
          0.3333333333333333,
          0.6666666666666666,
          1
         ],
         "y": [
          1.5865404318733103,
          0.663017859604353,
          0.7986382362933077,
          0.2378447034551702
         ]
        },
        {
         "line": {
          "color": "blue"
         },
         "mode": "lines",
         "opacity": 0.01734152991583261,
         "type": "scatter",
         "x": [
          0,
          0.3333333333333333,
          0.6666666666666666,
          1
         ],
         "y": [
          2.359111690595433,
          3.0931259060453793,
          3.2861105186541577,
          3.14162227017541
         ]
        },
        {
         "line": {
          "color": "red"
         },
         "mode": "lines",
         "opacity": 0.05292214940134466,
         "type": "scatter",
         "x": [
          0,
          0.25,
          0.5,
          0.75,
          1
         ],
         "y": [
          1.5554171073282226,
          1.3039179320999947,
          0.7587496518097516,
          0.40697661778612537,
          0.23056446874374484
         ]
        },
        {
         "line": {
          "color": "blue"
         },
         "mode": "lines",
         "opacity": 0.05292214940134466,
         "type": "scatter",
         "x": [
          0,
          0.25,
          0.5,
          0.75,
          1
         ],
         "y": [
          2.3230174186557098,
          3.1178063998097865,
          3.2010217039870517,
          3.310662703334917,
          3.129617377572817
         ]
        },
        {
         "line": {
          "color": "red"
         },
         "mode": "lines",
         "opacity": 0.13168724279835387,
         "type": "scatter",
         "x": [
          0,
          0.2,
          0.4,
          0.6000000000000001,
          0.8,
          1
         ],
         "y": [
          1.5798003651408683,
          1.160920342884177,
          0.7939533724610875,
          0.8516244162701943,
          0.534505495231723,
          0.19726108405582457
         ]
        },
        {
         "line": {
          "color": "blue"
         },
         "mode": "lines",
         "opacity": 0.13168724279835387,
         "type": "scatter",
         "x": [
          0,
          0.2,
          0.4,
          0.6000000000000001,
          0.8,
          1
         ],
         "y": [
          2.461001786531886,
          3.1645777516067084,
          3.1141745466850095,
          3.2187798879083815,
          3.307939711985695,
          3.176192151349042
         ]
        },
        {
         "line": {
          "color": "red"
         },
         "mode": "lines",
         "opacity": 0.28462802079628785,
         "type": "scatter",
         "x": [
          0,
          0.16666666666666666,
          0.3333333333333333,
          0.5,
          0.6666666666666666,
          0.8333333333333333,
          1
         ],
         "y": [
          1.5554151791737139,
          1.2162628763053296,
          1.2122705999785863,
          0.7562350416550625,
          0.5225212517372908,
          0.26571851093239174,
          0.036539938596297804
         ]
        },
        {
         "line": {
          "color": "blue"
         },
         "mode": "lines",
         "opacity": 0.28462802079628785,
         "type": "scatter",
         "x": [
          0,
          0.16666666666666666,
          0.3333333333333333,
          0.5,
          0.6666666666666666,
          0.8333333333333333,
          1
         ],
         "y": [
          2.33758116846042,
          3.077627800940123,
          3.121473679562534,
          3.18445796106564,
          3.279930534699803,
          3.2241136640668637,
          3.0794204383278085
         ]
        },
        {
         "line": {
          "color": "red"
         },
         "mode": "lines",
         "opacity": 0.5549289573066435,
         "type": "scatter",
         "x": [
          0,
          0.14285714285714285,
          0.2857142857142857,
          0.42857142857142855,
          0.5714285714285714,
          0.7142857142857142,
          0.8571428571428571,
          1
         ],
         "y": [
          1.5746282767614599,
          1.3734309410207437,
          1.1234065165169411,
          0.8323134589772493,
          0.8478435994575956,
          0.39100948755958004,
          0.23345485599859442,
          0.09863593863258968
         ]
        },
        {
         "line": {
          "color": "blue"
         },
         "mode": "lines",
         "opacity": 0.5549289573066435,
         "type": "scatter",
         "x": [
          0,
          0.14285714285714285,
          0.2857142857142857,
          0.42857142857142855,
          0.5714285714285714,
          0.7142857142857142,
          0.8571428571428571,
          1
         ],
         "y": [
          2.3575232816669778,
          3.2046808126300386,
          3.1685356858075804,
          3.1235314475179257,
          3.218462189363237,
          3.243147524107935,
          3.2789543968077153,
          3.1199505149995685
         ]
        },
        {
         "line": {
          "color": "red"
         },
         "mode": "lines",
         "opacity": 1,
         "type": "scatter",
         "x": [
          0,
          0.125,
          0.25,
          0.375,
          0.5,
          0.625,
          0.75,
          0.875,
          1
         ],
         "y": [
          1.5606840799239363,
          1.4094465059855195,
          1.2179374751477239,
          0.974392771645575,
          0.8583107558552072,
          0.6909856071961223,
          0.3498269566512886,
          0.18476654812590843,
          0.12089846920320083
         ]
        },
        {
         "line": {
          "color": "blue"
         },
         "mode": "lines",
         "opacity": 1,
         "type": "scatter",
         "x": [
          0,
          0.125,
          0.25,
          0.375,
          0.5,
          0.625,
          0.75,
          0.875,
          1
         ],
         "y": [
          2.3275975450538873,
          3.1656760531968993,
          3.099180496156671,
          3.1416567791225574,
          3.105175192760115,
          3.2152543763429784,
          3.2425867801079526,
          3.2954018653689383,
          3.1109652865229247
         ]
        }
       ],
       "layout": {
        "height": 700,
        "showlegend": false,
        "template": {
         "data": {
          "bar": [
           {
            "error_x": {
             "color": "#2a3f5f"
            },
            "error_y": {
             "color": "#2a3f5f"
            },
            "marker": {
             "line": {
              "color": "#E5ECF6",
              "width": 0.5
             },
             "pattern": {
              "fillmode": "overlay",
              "size": 10,
              "solidity": 0.2
             }
            },
            "type": "bar"
           }
          ],
          "barpolar": [
           {
            "marker": {
             "line": {
              "color": "#E5ECF6",
              "width": 0.5
             },
             "pattern": {
              "fillmode": "overlay",
              "size": 10,
              "solidity": 0.2
             }
            },
            "type": "barpolar"
           }
          ],
          "carpet": [
           {
            "aaxis": {
             "endlinecolor": "#2a3f5f",
             "gridcolor": "white",
             "linecolor": "white",
             "minorgridcolor": "white",
             "startlinecolor": "#2a3f5f"
            },
            "baxis": {
             "endlinecolor": "#2a3f5f",
             "gridcolor": "white",
             "linecolor": "white",
             "minorgridcolor": "white",
             "startlinecolor": "#2a3f5f"
            },
            "type": "carpet"
           }
          ],
          "choropleth": [
           {
            "colorbar": {
             "outlinewidth": 0,
             "ticks": ""
            },
            "type": "choropleth"
           }
          ],
          "contour": [
           {
            "colorbar": {
             "outlinewidth": 0,
             "ticks": ""
            },
            "colorscale": [
             [
              0,
              "#0d0887"
             ],
             [
              0.1111111111111111,
              "#46039f"
             ],
             [
              0.2222222222222222,
              "#7201a8"
             ],
             [
              0.3333333333333333,
              "#9c179e"
             ],
             [
              0.4444444444444444,
              "#bd3786"
             ],
             [
              0.5555555555555556,
              "#d8576b"
             ],
             [
              0.6666666666666666,
              "#ed7953"
             ],
             [
              0.7777777777777778,
              "#fb9f3a"
             ],
             [
              0.8888888888888888,
              "#fdca26"
             ],
             [
              1,
              "#f0f921"
             ]
            ],
            "type": "contour"
           }
          ],
          "contourcarpet": [
           {
            "colorbar": {
             "outlinewidth": 0,
             "ticks": ""
            },
            "type": "contourcarpet"
           }
          ],
          "heatmap": [
           {
            "colorbar": {
             "outlinewidth": 0,
             "ticks": ""
            },
            "colorscale": [
             [
              0,
              "#0d0887"
             ],
             [
              0.1111111111111111,
              "#46039f"
             ],
             [
              0.2222222222222222,
              "#7201a8"
             ],
             [
              0.3333333333333333,
              "#9c179e"
             ],
             [
              0.4444444444444444,
              "#bd3786"
             ],
             [
              0.5555555555555556,
              "#d8576b"
             ],
             [
              0.6666666666666666,
              "#ed7953"
             ],
             [
              0.7777777777777778,
              "#fb9f3a"
             ],
             [
              0.8888888888888888,
              "#fdca26"
             ],
             [
              1,
              "#f0f921"
             ]
            ],
            "type": "heatmap"
           }
          ],
          "heatmapgl": [
           {
            "colorbar": {
             "outlinewidth": 0,
             "ticks": ""
            },
            "colorscale": [
             [
              0,
              "#0d0887"
             ],
             [
              0.1111111111111111,
              "#46039f"
             ],
             [
              0.2222222222222222,
              "#7201a8"
             ],
             [
              0.3333333333333333,
              "#9c179e"
             ],
             [
              0.4444444444444444,
              "#bd3786"
             ],
             [
              0.5555555555555556,
              "#d8576b"
             ],
             [
              0.6666666666666666,
              "#ed7953"
             ],
             [
              0.7777777777777778,
              "#fb9f3a"
             ],
             [
              0.8888888888888888,
              "#fdca26"
             ],
             [
              1,
              "#f0f921"
             ]
            ],
            "type": "heatmapgl"
           }
          ],
          "histogram": [
           {
            "marker": {
             "pattern": {
              "fillmode": "overlay",
              "size": 10,
              "solidity": 0.2
             }
            },
            "type": "histogram"
           }
          ],
          "histogram2d": [
           {
            "colorbar": {
             "outlinewidth": 0,
             "ticks": ""
            },
            "colorscale": [
             [
              0,
              "#0d0887"
             ],
             [
              0.1111111111111111,
              "#46039f"
             ],
             [
              0.2222222222222222,
              "#7201a8"
             ],
             [
              0.3333333333333333,
              "#9c179e"
             ],
             [
              0.4444444444444444,
              "#bd3786"
             ],
             [
              0.5555555555555556,
              "#d8576b"
             ],
             [
              0.6666666666666666,
              "#ed7953"
             ],
             [
              0.7777777777777778,
              "#fb9f3a"
             ],
             [
              0.8888888888888888,
              "#fdca26"
             ],
             [
              1,
              "#f0f921"
             ]
            ],
            "type": "histogram2d"
           }
          ],
          "histogram2dcontour": [
           {
            "colorbar": {
             "outlinewidth": 0,
             "ticks": ""
            },
            "colorscale": [
             [
              0,
              "#0d0887"
             ],
             [
              0.1111111111111111,
              "#46039f"
             ],
             [
              0.2222222222222222,
              "#7201a8"
             ],
             [
              0.3333333333333333,
              "#9c179e"
             ],
             [
              0.4444444444444444,
              "#bd3786"
             ],
             [
              0.5555555555555556,
              "#d8576b"
             ],
             [
              0.6666666666666666,
              "#ed7953"
             ],
             [
              0.7777777777777778,
              "#fb9f3a"
             ],
             [
              0.8888888888888888,
              "#fdca26"
             ],
             [
              1,
              "#f0f921"
             ]
            ],
            "type": "histogram2dcontour"
           }
          ],
          "mesh3d": [
           {
            "colorbar": {
             "outlinewidth": 0,
             "ticks": ""
            },
            "type": "mesh3d"
           }
          ],
          "parcoords": [
           {
            "line": {
             "colorbar": {
              "outlinewidth": 0,
              "ticks": ""
             }
            },
            "type": "parcoords"
           }
          ],
          "pie": [
           {
            "automargin": true,
            "type": "pie"
           }
          ],
          "scatter": [
           {
            "fillpattern": {
             "fillmode": "overlay",
             "size": 10,
             "solidity": 0.2
            },
            "type": "scatter"
           }
          ],
          "scatter3d": [
           {
            "line": {
             "colorbar": {
              "outlinewidth": 0,
              "ticks": ""
             }
            },
            "marker": {
             "colorbar": {
              "outlinewidth": 0,
              "ticks": ""
             }
            },
            "type": "scatter3d"
           }
          ],
          "scattercarpet": [
           {
            "marker": {
             "colorbar": {
              "outlinewidth": 0,
              "ticks": ""
             }
            },
            "type": "scattercarpet"
           }
          ],
          "scattergeo": [
           {
            "marker": {
             "colorbar": {
              "outlinewidth": 0,
              "ticks": ""
             }
            },
            "type": "scattergeo"
           }
          ],
          "scattergl": [
           {
            "marker": {
             "colorbar": {
              "outlinewidth": 0,
              "ticks": ""
             }
            },
            "type": "scattergl"
           }
          ],
          "scattermapbox": [
           {
            "marker": {
             "colorbar": {
              "outlinewidth": 0,
              "ticks": ""
             }
            },
            "type": "scattermapbox"
           }
          ],
          "scatterpolar": [
           {
            "marker": {
             "colorbar": {
              "outlinewidth": 0,
              "ticks": ""
             }
            },
            "type": "scatterpolar"
           }
          ],
          "scatterpolargl": [
           {
            "marker": {
             "colorbar": {
              "outlinewidth": 0,
              "ticks": ""
             }
            },
            "type": "scatterpolargl"
           }
          ],
          "scatterternary": [
           {
            "marker": {
             "colorbar": {
              "outlinewidth": 0,
              "ticks": ""
             }
            },
            "type": "scatterternary"
           }
          ],
          "surface": [
           {
            "colorbar": {
             "outlinewidth": 0,
             "ticks": ""
            },
            "colorscale": [
             [
              0,
              "#0d0887"
             ],
             [
              0.1111111111111111,
              "#46039f"
             ],
             [
              0.2222222222222222,
              "#7201a8"
             ],
             [
              0.3333333333333333,
              "#9c179e"
             ],
             [
              0.4444444444444444,
              "#bd3786"
             ],
             [
              0.5555555555555556,
              "#d8576b"
             ],
             [
              0.6666666666666666,
              "#ed7953"
             ],
             [
              0.7777777777777778,
              "#fb9f3a"
             ],
             [
              0.8888888888888888,
              "#fdca26"
             ],
             [
              1,
              "#f0f921"
             ]
            ],
            "type": "surface"
           }
          ],
          "table": [
           {
            "cells": {
             "fill": {
              "color": "#EBF0F8"
             },
             "line": {
              "color": "white"
             }
            },
            "header": {
             "fill": {
              "color": "#C8D4E3"
             },
             "line": {
              "color": "white"
             }
            },
            "type": "table"
           }
          ]
         },
         "layout": {
          "annotationdefaults": {
           "arrowcolor": "#2a3f5f",
           "arrowhead": 0,
           "arrowwidth": 1
          },
          "autotypenumbers": "strict",
          "coloraxis": {
           "colorbar": {
            "outlinewidth": 0,
            "ticks": ""
           }
          },
          "colorscale": {
           "diverging": [
            [
             0,
             "#8e0152"
            ],
            [
             0.1,
             "#c51b7d"
            ],
            [
             0.2,
             "#de77ae"
            ],
            [
             0.3,
             "#f1b6da"
            ],
            [
             0.4,
             "#fde0ef"
            ],
            [
             0.5,
             "#f7f7f7"
            ],
            [
             0.6,
             "#e6f5d0"
            ],
            [
             0.7,
             "#b8e186"
            ],
            [
             0.8,
             "#7fbc41"
            ],
            [
             0.9,
             "#4d9221"
            ],
            [
             1,
             "#276419"
            ]
           ],
           "sequential": [
            [
             0,
             "#0d0887"
            ],
            [
             0.1111111111111111,
             "#46039f"
            ],
            [
             0.2222222222222222,
             "#7201a8"
            ],
            [
             0.3333333333333333,
             "#9c179e"
            ],
            [
             0.4444444444444444,
             "#bd3786"
            ],
            [
             0.5555555555555556,
             "#d8576b"
            ],
            [
             0.6666666666666666,
             "#ed7953"
            ],
            [
             0.7777777777777778,
             "#fb9f3a"
            ],
            [
             0.8888888888888888,
             "#fdca26"
            ],
            [
             1,
             "#f0f921"
            ]
           ],
           "sequentialminus": [
            [
             0,
             "#0d0887"
            ],
            [
             0.1111111111111111,
             "#46039f"
            ],
            [
             0.2222222222222222,
             "#7201a8"
            ],
            [
             0.3333333333333333,
             "#9c179e"
            ],
            [
             0.4444444444444444,
             "#bd3786"
            ],
            [
             0.5555555555555556,
             "#d8576b"
            ],
            [
             0.6666666666666666,
             "#ed7953"
            ],
            [
             0.7777777777777778,
             "#fb9f3a"
            ],
            [
             0.8888888888888888,
             "#fdca26"
            ],
            [
             1,
             "#f0f921"
            ]
           ]
          },
          "colorway": [
           "#636efa",
           "#EF553B",
           "#00cc96",
           "#ab63fa",
           "#FFA15A",
           "#19d3f3",
           "#FF6692",
           "#B6E880",
           "#FF97FF",
           "#FECB52"
          ],
          "font": {
           "color": "#2a3f5f"
          },
          "geo": {
           "bgcolor": "white",
           "lakecolor": "white",
           "landcolor": "#E5ECF6",
           "showlakes": true,
           "showland": true,
           "subunitcolor": "white"
          },
          "hoverlabel": {
           "align": "left"
          },
          "hovermode": "closest",
          "mapbox": {
           "style": "light"
          },
          "paper_bgcolor": "white",
          "plot_bgcolor": "#E5ECF6",
          "polar": {
           "angularaxis": {
            "gridcolor": "white",
            "linecolor": "white",
            "ticks": ""
           },
           "bgcolor": "#E5ECF6",
           "radialaxis": {
            "gridcolor": "white",
            "linecolor": "white",
            "ticks": ""
           }
          },
          "scene": {
           "xaxis": {
            "backgroundcolor": "#E5ECF6",
            "gridcolor": "white",
            "gridwidth": 2,
            "linecolor": "white",
            "showbackground": true,
            "ticks": "",
            "zerolinecolor": "white"
           },
           "yaxis": {
            "backgroundcolor": "#E5ECF6",
            "gridcolor": "white",
            "gridwidth": 2,
            "linecolor": "white",
            "showbackground": true,
            "ticks": "",
            "zerolinecolor": "white"
           },
           "zaxis": {
            "backgroundcolor": "#E5ECF6",
            "gridcolor": "white",
            "gridwidth": 2,
            "linecolor": "white",
            "showbackground": true,
            "ticks": "",
            "zerolinecolor": "white"
           }
          },
          "shapedefaults": {
           "line": {
            "color": "#2a3f5f"
           }
          },
          "ternary": {
           "aaxis": {
            "gridcolor": "white",
            "linecolor": "white",
            "ticks": ""
           },
           "baxis": {
            "gridcolor": "white",
            "linecolor": "white",
            "ticks": ""
           },
           "bgcolor": "#E5ECF6",
           "caxis": {
            "gridcolor": "white",
            "linecolor": "white",
            "ticks": ""
           }
          },
          "title": {
           "x": 0.05
          },
          "xaxis": {
           "automargin": true,
           "gridcolor": "white",
           "linecolor": "white",
           "ticks": "",
           "title": {
            "standoff": 15
           },
           "zerolinecolor": "white",
           "zerolinewidth": 2
          },
          "yaxis": {
           "automargin": true,
           "gridcolor": "white",
           "linecolor": "white",
           "ticks": "",
           "title": {
            "standoff": 15
           },
           "zerolinecolor": "white",
           "zerolinewidth": 2
          }
         }
        },
        "title": {
         "text": "Parameter Curves"
        },
        "width": 1200,
        "xaxis": {
         "title": {
          "text": "Step (i-1)/(p-1)"
         }
        },
        "yaxis": {
         "title": {
          "text": "Gamma(red), Beta(blue)"
         }
        }
       }
      }
     },
     "metadata": {},
     "output_type": "display_data"
    }
   ],
   "source": [
    "import plotly.graph_objects as go\n",
    "\n",
    "def plot_parameters(converged_parameters):\n",
    "    fig = go.Figure()\n",
    "\n",
    "    num_lines = len(converged_parameters)\n",
    "\n",
    "    for i, parameters in enumerate(converged_parameters[::-1]):\n",
    "        p = len(parameters) // 2\n",
    "\n",
    "        gammas = parameters[::2]\n",
    "        betas = parameters[1::2]\n",
    "\n",
    "        print(p)\n",
    "        \n",
    "        fig.add_trace(go.Scatter(x=np.linspace(0, 1, p), y = gammas,\n",
    "                                 opacity= ((i + 1) / num_lines) ** 5,\n",
    "                                 mode=\"lines\",\n",
    "                                 line=dict(color='red')))\n",
    "        fig.add_trace(go.Scatter(x=np.linspace(0, 1, p), y = betas,\n",
    "                                 opacity= ((i + 1) / num_lines) ** 5,\n",
    "                                 mode=\"lines\",\n",
    "                                 line=dict(color='blue')))\n",
    "    fig.update_layout(showlegend=False, \n",
    "                    width=1200,\n",
    "                    height=700,\n",
    "                    title = \"Parameter Curves\",\n",
    "                    xaxis_title = \"Step (i-1)/(p-1)\",\n",
    "                    yaxis_title = \"Gamma(red), Beta(blue)\")\n",
    "            \n",
    "    fig.show()\n",
    "    \n",
    "plot_parameters(converged_parameters)"
   ]
  },
  {
   "cell_type": "code",
   "execution_count": 138,
   "metadata": {},
   "outputs": [
    {
     "data": {
      "application/vnd.plotly.v1+json": {
       "config": {
        "plotlyServerURL": "https://plot.ly"
       },
       "data": [
        {
         "line": {
          "color": "violet"
         },
         "type": "scatter",
         "x": [
          1,
          2,
          3,
          4,
          5,
          6,
          7,
          8,
          9
         ],
         "y": [
          98.79197548284311,
          99.2592675303575,
          99.43492466301362,
          99.60382991359094,
          99.9817688987105,
          99.99282318251818,
          99.99809052010622,
          99.99983683418043
         ]
        }
       ],
       "layout": {
        "height": 700,
        "showlegend": false,
        "template": {
         "data": {
          "bar": [
           {
            "error_x": {
             "color": "#2a3f5f"
            },
            "error_y": {
             "color": "#2a3f5f"
            },
            "marker": {
             "line": {
              "color": "#E5ECF6",
              "width": 0.5
             },
             "pattern": {
              "fillmode": "overlay",
              "size": 10,
              "solidity": 0.2
             }
            },
            "type": "bar"
           }
          ],
          "barpolar": [
           {
            "marker": {
             "line": {
              "color": "#E5ECF6",
              "width": 0.5
             },
             "pattern": {
              "fillmode": "overlay",
              "size": 10,
              "solidity": 0.2
             }
            },
            "type": "barpolar"
           }
          ],
          "carpet": [
           {
            "aaxis": {
             "endlinecolor": "#2a3f5f",
             "gridcolor": "white",
             "linecolor": "white",
             "minorgridcolor": "white",
             "startlinecolor": "#2a3f5f"
            },
            "baxis": {
             "endlinecolor": "#2a3f5f",
             "gridcolor": "white",
             "linecolor": "white",
             "minorgridcolor": "white",
             "startlinecolor": "#2a3f5f"
            },
            "type": "carpet"
           }
          ],
          "choropleth": [
           {
            "colorbar": {
             "outlinewidth": 0,
             "ticks": ""
            },
            "type": "choropleth"
           }
          ],
          "contour": [
           {
            "colorbar": {
             "outlinewidth": 0,
             "ticks": ""
            },
            "colorscale": [
             [
              0,
              "#0d0887"
             ],
             [
              0.1111111111111111,
              "#46039f"
             ],
             [
              0.2222222222222222,
              "#7201a8"
             ],
             [
              0.3333333333333333,
              "#9c179e"
             ],
             [
              0.4444444444444444,
              "#bd3786"
             ],
             [
              0.5555555555555556,
              "#d8576b"
             ],
             [
              0.6666666666666666,
              "#ed7953"
             ],
             [
              0.7777777777777778,
              "#fb9f3a"
             ],
             [
              0.8888888888888888,
              "#fdca26"
             ],
             [
              1,
              "#f0f921"
             ]
            ],
            "type": "contour"
           }
          ],
          "contourcarpet": [
           {
            "colorbar": {
             "outlinewidth": 0,
             "ticks": ""
            },
            "type": "contourcarpet"
           }
          ],
          "heatmap": [
           {
            "colorbar": {
             "outlinewidth": 0,
             "ticks": ""
            },
            "colorscale": [
             [
              0,
              "#0d0887"
             ],
             [
              0.1111111111111111,
              "#46039f"
             ],
             [
              0.2222222222222222,
              "#7201a8"
             ],
             [
              0.3333333333333333,
              "#9c179e"
             ],
             [
              0.4444444444444444,
              "#bd3786"
             ],
             [
              0.5555555555555556,
              "#d8576b"
             ],
             [
              0.6666666666666666,
              "#ed7953"
             ],
             [
              0.7777777777777778,
              "#fb9f3a"
             ],
             [
              0.8888888888888888,
              "#fdca26"
             ],
             [
              1,
              "#f0f921"
             ]
            ],
            "type": "heatmap"
           }
          ],
          "heatmapgl": [
           {
            "colorbar": {
             "outlinewidth": 0,
             "ticks": ""
            },
            "colorscale": [
             [
              0,
              "#0d0887"
             ],
             [
              0.1111111111111111,
              "#46039f"
             ],
             [
              0.2222222222222222,
              "#7201a8"
             ],
             [
              0.3333333333333333,
              "#9c179e"
             ],
             [
              0.4444444444444444,
              "#bd3786"
             ],
             [
              0.5555555555555556,
              "#d8576b"
             ],
             [
              0.6666666666666666,
              "#ed7953"
             ],
             [
              0.7777777777777778,
              "#fb9f3a"
             ],
             [
              0.8888888888888888,
              "#fdca26"
             ],
             [
              1,
              "#f0f921"
             ]
            ],
            "type": "heatmapgl"
           }
          ],
          "histogram": [
           {
            "marker": {
             "pattern": {
              "fillmode": "overlay",
              "size": 10,
              "solidity": 0.2
             }
            },
            "type": "histogram"
           }
          ],
          "histogram2d": [
           {
            "colorbar": {
             "outlinewidth": 0,
             "ticks": ""
            },
            "colorscale": [
             [
              0,
              "#0d0887"
             ],
             [
              0.1111111111111111,
              "#46039f"
             ],
             [
              0.2222222222222222,
              "#7201a8"
             ],
             [
              0.3333333333333333,
              "#9c179e"
             ],
             [
              0.4444444444444444,
              "#bd3786"
             ],
             [
              0.5555555555555556,
              "#d8576b"
             ],
             [
              0.6666666666666666,
              "#ed7953"
             ],
             [
              0.7777777777777778,
              "#fb9f3a"
             ],
             [
              0.8888888888888888,
              "#fdca26"
             ],
             [
              1,
              "#f0f921"
             ]
            ],
            "type": "histogram2d"
           }
          ],
          "histogram2dcontour": [
           {
            "colorbar": {
             "outlinewidth": 0,
             "ticks": ""
            },
            "colorscale": [
             [
              0,
              "#0d0887"
             ],
             [
              0.1111111111111111,
              "#46039f"
             ],
             [
              0.2222222222222222,
              "#7201a8"
             ],
             [
              0.3333333333333333,
              "#9c179e"
             ],
             [
              0.4444444444444444,
              "#bd3786"
             ],
             [
              0.5555555555555556,
              "#d8576b"
             ],
             [
              0.6666666666666666,
              "#ed7953"
             ],
             [
              0.7777777777777778,
              "#fb9f3a"
             ],
             [
              0.8888888888888888,
              "#fdca26"
             ],
             [
              1,
              "#f0f921"
             ]
            ],
            "type": "histogram2dcontour"
           }
          ],
          "mesh3d": [
           {
            "colorbar": {
             "outlinewidth": 0,
             "ticks": ""
            },
            "type": "mesh3d"
           }
          ],
          "parcoords": [
           {
            "line": {
             "colorbar": {
              "outlinewidth": 0,
              "ticks": ""
             }
            },
            "type": "parcoords"
           }
          ],
          "pie": [
           {
            "automargin": true,
            "type": "pie"
           }
          ],
          "scatter": [
           {
            "fillpattern": {
             "fillmode": "overlay",
             "size": 10,
             "solidity": 0.2
            },
            "type": "scatter"
           }
          ],
          "scatter3d": [
           {
            "line": {
             "colorbar": {
              "outlinewidth": 0,
              "ticks": ""
             }
            },
            "marker": {
             "colorbar": {
              "outlinewidth": 0,
              "ticks": ""
             }
            },
            "type": "scatter3d"
           }
          ],
          "scattercarpet": [
           {
            "marker": {
             "colorbar": {
              "outlinewidth": 0,
              "ticks": ""
             }
            },
            "type": "scattercarpet"
           }
          ],
          "scattergeo": [
           {
            "marker": {
             "colorbar": {
              "outlinewidth": 0,
              "ticks": ""
             }
            },
            "type": "scattergeo"
           }
          ],
          "scattergl": [
           {
            "marker": {
             "colorbar": {
              "outlinewidth": 0,
              "ticks": ""
             }
            },
            "type": "scattergl"
           }
          ],
          "scattermapbox": [
           {
            "marker": {
             "colorbar": {
              "outlinewidth": 0,
              "ticks": ""
             }
            },
            "type": "scattermapbox"
           }
          ],
          "scatterpolar": [
           {
            "marker": {
             "colorbar": {
              "outlinewidth": 0,
              "ticks": ""
             }
            },
            "type": "scatterpolar"
           }
          ],
          "scatterpolargl": [
           {
            "marker": {
             "colorbar": {
              "outlinewidth": 0,
              "ticks": ""
             }
            },
            "type": "scatterpolargl"
           }
          ],
          "scatterternary": [
           {
            "marker": {
             "colorbar": {
              "outlinewidth": 0,
              "ticks": ""
             }
            },
            "type": "scatterternary"
           }
          ],
          "surface": [
           {
            "colorbar": {
             "outlinewidth": 0,
             "ticks": ""
            },
            "colorscale": [
             [
              0,
              "#0d0887"
             ],
             [
              0.1111111111111111,
              "#46039f"
             ],
             [
              0.2222222222222222,
              "#7201a8"
             ],
             [
              0.3333333333333333,
              "#9c179e"
             ],
             [
              0.4444444444444444,
              "#bd3786"
             ],
             [
              0.5555555555555556,
              "#d8576b"
             ],
             [
              0.6666666666666666,
              "#ed7953"
             ],
             [
              0.7777777777777778,
              "#fb9f3a"
             ],
             [
              0.8888888888888888,
              "#fdca26"
             ],
             [
              1,
              "#f0f921"
             ]
            ],
            "type": "surface"
           }
          ],
          "table": [
           {
            "cells": {
             "fill": {
              "color": "#EBF0F8"
             },
             "line": {
              "color": "white"
             }
            },
            "header": {
             "fill": {
              "color": "#C8D4E3"
             },
             "line": {
              "color": "white"
             }
            },
            "type": "table"
           }
          ]
         },
         "layout": {
          "annotationdefaults": {
           "arrowcolor": "#2a3f5f",
           "arrowhead": 0,
           "arrowwidth": 1
          },
          "autotypenumbers": "strict",
          "coloraxis": {
           "colorbar": {
            "outlinewidth": 0,
            "ticks": ""
           }
          },
          "colorscale": {
           "diverging": [
            [
             0,
             "#8e0152"
            ],
            [
             0.1,
             "#c51b7d"
            ],
            [
             0.2,
             "#de77ae"
            ],
            [
             0.3,
             "#f1b6da"
            ],
            [
             0.4,
             "#fde0ef"
            ],
            [
             0.5,
             "#f7f7f7"
            ],
            [
             0.6,
             "#e6f5d0"
            ],
            [
             0.7,
             "#b8e186"
            ],
            [
             0.8,
             "#7fbc41"
            ],
            [
             0.9,
             "#4d9221"
            ],
            [
             1,
             "#276419"
            ]
           ],
           "sequential": [
            [
             0,
             "#0d0887"
            ],
            [
             0.1111111111111111,
             "#46039f"
            ],
            [
             0.2222222222222222,
             "#7201a8"
            ],
            [
             0.3333333333333333,
             "#9c179e"
            ],
            [
             0.4444444444444444,
             "#bd3786"
            ],
            [
             0.5555555555555556,
             "#d8576b"
            ],
            [
             0.6666666666666666,
             "#ed7953"
            ],
            [
             0.7777777777777778,
             "#fb9f3a"
            ],
            [
             0.8888888888888888,
             "#fdca26"
            ],
            [
             1,
             "#f0f921"
            ]
           ],
           "sequentialminus": [
            [
             0,
             "#0d0887"
            ],
            [
             0.1111111111111111,
             "#46039f"
            ],
            [
             0.2222222222222222,
             "#7201a8"
            ],
            [
             0.3333333333333333,
             "#9c179e"
            ],
            [
             0.4444444444444444,
             "#bd3786"
            ],
            [
             0.5555555555555556,
             "#d8576b"
            ],
            [
             0.6666666666666666,
             "#ed7953"
            ],
            [
             0.7777777777777778,
             "#fb9f3a"
            ],
            [
             0.8888888888888888,
             "#fdca26"
            ],
            [
             1,
             "#f0f921"
            ]
           ]
          },
          "colorway": [
           "#636efa",
           "#EF553B",
           "#00cc96",
           "#ab63fa",
           "#FFA15A",
           "#19d3f3",
           "#FF6692",
           "#B6E880",
           "#FF97FF",
           "#FECB52"
          ],
          "font": {
           "color": "#2a3f5f"
          },
          "geo": {
           "bgcolor": "white",
           "lakecolor": "white",
           "landcolor": "#E5ECF6",
           "showlakes": true,
           "showland": true,
           "subunitcolor": "white"
          },
          "hoverlabel": {
           "align": "left"
          },
          "hovermode": "closest",
          "mapbox": {
           "style": "light"
          },
          "paper_bgcolor": "white",
          "plot_bgcolor": "#E5ECF6",
          "polar": {
           "angularaxis": {
            "gridcolor": "white",
            "linecolor": "white",
            "ticks": ""
           },
           "bgcolor": "#E5ECF6",
           "radialaxis": {
            "gridcolor": "white",
            "linecolor": "white",
            "ticks": ""
           }
          },
          "scene": {
           "xaxis": {
            "backgroundcolor": "#E5ECF6",
            "gridcolor": "white",
            "gridwidth": 2,
            "linecolor": "white",
            "showbackground": true,
            "ticks": "",
            "zerolinecolor": "white"
           },
           "yaxis": {
            "backgroundcolor": "#E5ECF6",
            "gridcolor": "white",
            "gridwidth": 2,
            "linecolor": "white",
            "showbackground": true,
            "ticks": "",
            "zerolinecolor": "white"
           },
           "zaxis": {
            "backgroundcolor": "#E5ECF6",
            "gridcolor": "white",
            "gridwidth": 2,
            "linecolor": "white",
            "showbackground": true,
            "ticks": "",
            "zerolinecolor": "white"
           }
          },
          "shapedefaults": {
           "line": {
            "color": "#2a3f5f"
           }
          },
          "ternary": {
           "aaxis": {
            "gridcolor": "white",
            "linecolor": "white",
            "ticks": ""
           },
           "baxis": {
            "gridcolor": "white",
            "linecolor": "white",
            "ticks": ""
           },
           "bgcolor": "#E5ECF6",
           "caxis": {
            "gridcolor": "white",
            "linecolor": "white",
            "ticks": ""
           }
          },
          "title": {
           "x": 0.05
          },
          "xaxis": {
           "automargin": true,
           "gridcolor": "white",
           "linecolor": "white",
           "ticks": "",
           "title": {
            "standoff": 15
           },
           "zerolinecolor": "white",
           "zerolinewidth": 2
          },
          "yaxis": {
           "automargin": true,
           "gridcolor": "white",
           "linecolor": "white",
           "ticks": "",
           "title": {
            "standoff": 15
           },
           "zerolinecolor": "white",
           "zerolinewidth": 2
          }
         }
        },
        "title": {
         "text": "Performance Scaling of p"
        },
        "width": 1200,
        "xaxis": {
         "title": {
          "text": "p - number of rounds"
         }
        },
        "yaxis": {
         "title": {
          "text": "Closeness to Ground (%)"
         }
        }
       }
      }
     },
     "metadata": {},
     "output_type": "display_data"
    }
   ],
   "source": [
    "fig = go.Figure()\n",
    "\n",
    "fig.add_trace(go.Scatter(x=list(range(1, 1 +len(converged_energies))), y = (1 - closeness_to_ground(np.array(converged_energies[1::][::-1]))) * 100,\n",
    "                                 line=dict(color='violet')))\n",
    "\n",
    "fig.update_layout(showlegend=False,\n",
    "                  width=1200,\n",
    "                    height=700,\n",
    "                  title = \"Performance Scaling of p\",\n",
    "                  xaxis_title = \"p - number of rounds\",\n",
    "                  yaxis_title = \"Closeness to Ground (%)\")\n",
    "\n",
    "fig.show()"
   ]
  },
  {
   "cell_type": "code",
   "execution_count": 139,
   "metadata": {},
   "outputs": [
    {
     "data": {
      "text/plain": [
       "array([98.79197548, 99.25926753, 99.43492466, 99.60382991, 99.9817689 ,\n",
       "       99.99282318, 99.99809052, 99.99983683])"
      ]
     },
     "execution_count": 139,
     "metadata": {},
     "output_type": "execute_result"
    }
   ],
   "source": [
    "(1 - closeness_to_ground(np.array(converged_energies[1::][::-1]))) * 100"
   ]
  },
  {
   "cell_type": "code",
   "execution_count": 137,
   "metadata": {},
   "outputs": [
    {
     "data": {
      "text/plain": [
       "1.6316581957775966e-06"
      ]
     },
     "execution_count": 137,
     "metadata": {},
     "output_type": "execute_result"
    }
   ],
   "source": [
    "closeness_to_ground(np.array(converged_energies[1::][::-1]))[-1]"
   ]
  },
  {
   "cell_type": "code",
   "execution_count": 103,
   "metadata": {},
   "outputs": [
    {
     "data": {
      "text/plain": [
       "0.18481538464456548"
      ]
     },
     "execution_count": 103,
     "metadata": {},
     "output_type": "execute_result"
    }
   ],
   "source": [
    "def closeness_to_ground(val):\n",
    "    return 1 - (ham.eigen_values()[-1] - val) / (ham.eigen_values()[-1] - ham.eigen_values()[0])\n",
    "\n",
    "closeness_to_ground(-2.1442988) * 100"
   ]
  },
  {
   "cell_type": "code",
   "execution_count": 21,
   "metadata": {},
   "outputs": [],
   "source": [
    "with open('data', 'wb') as f:\n",
    "    pickle.dump(layers,f)\n",
    "\n",
    "with open('data', 'rb') as f:\n",
    "    y = pickle.load(f)"
   ]
  },
  {
   "cell_type": "code",
   "execution_count": 144,
   "metadata": {},
   "outputs": [
    {
     "data": {
      "text/plain": [
       "-2.155857707711967"
      ]
     },
     "execution_count": 144,
     "metadata": {},
     "output_type": "execute_result"
    }
   ],
   "source": [
    "numqaoa.energy(*converged_parameters[0])"
   ]
  },
  {
   "cell_type": "code",
   "execution_count": 158,
   "metadata": {},
   "outputs": [
    {
     "data": {
      "text/plain": [
       "0.5813156838282922"
      ]
     },
     "execution_count": 158,
     "metadata": {},
     "output_type": "execute_result"
    }
   ],
   "source": [
    "numqaoa.energy(*(np.random.rand(18) * 2 * np.pi))"
   ]
  },
  {
   "cell_type": "code",
   "execution_count": 159,
   "metadata": {},
   "outputs": [
    {
     "data": {
      "text/plain": [
       "  message: CONVERGENCE: REL_REDUCTION_OF_F_<=_FACTR*EPSMCH\n",
       "  success: True\n",
       "   status: 0\n",
       "      fun: -2.1389073211120793\n",
       "        x: [ 0.000e+00  5.622e+00 ...  6.566e-01  2.418e+00]\n",
       "      nit: 111\n",
       "      jac: [ 4.540e-01  1.935e-03 ... -9.271e-03 -5.471e-03]\n",
       "     nfev: 2451\n",
       "     njev: 129\n",
       " hess_inv: <18x18 LbfgsInvHessProduct with dtype=float64>"
      ]
     },
     "execution_count": 159,
     "metadata": {},
     "output_type": "execute_result"
    }
   ],
   "source": [
    "scipy.optimize.minimize(\n",
    "                        fun = lambda x: numqaoa.energy(*x), \n",
    "                        x0 = np.random.rand(18) * 2 * np.pi,\n",
    "                        bounds = [[0, 2 * np.pi] for _ in range(9 * 2)],\n",
    "                        tol = 1e-6)"
   ]
  },
  {
   "cell_type": "code",
   "execution_count": null,
   "metadata": {},
   "outputs": [],
   "source": []
  }
 ],
 "metadata": {
  "kernelspec": {
   "display_name": "qiskit",
   "language": "python",
   "name": "python3"
  },
  "language_info": {
   "codemirror_mode": {
    "name": "ipython",
    "version": 3
   },
   "file_extension": ".py",
   "mimetype": "text/x-python",
   "name": "python",
   "nbconvert_exporter": "python",
   "pygments_lexer": "ipython3",
   "version": "3.10.9"
  },
  "orig_nbformat": 4,
  "vscode": {
   "interpreter": {
    "hash": "f1d489946b513dbfb0553c01c360cf7ad67d9590640cc3332e2d0ac64b75681b"
   }
  }
 },
 "nbformat": 4,
 "nbformat_minor": 2
}

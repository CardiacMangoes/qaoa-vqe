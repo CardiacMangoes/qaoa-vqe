{
 "cells": [
  {
   "cell_type": "code",
   "execution_count": 5,
   "metadata": {},
   "outputs": [],
   "source": [
    "import numpy as np\n",
    "from PIL import Image"
   ]
  },
  {
   "cell_type": "code",
   "execution_count": 29,
   "metadata": {},
   "outputs": [],
   "source": [
    "size = 512\n",
    "\n",
    "canvas = np.sin(np.arange(size) * 2 * np.pi / 15) * 255\n",
    "\n",
    "canvas = np.stack([canvas] * size)\n",
    "\n",
    "canvas = canvas + canvas.T"
   ]
  },
  {
   "cell_type": "code",
   "execution_count": 30,
   "metadata": {},
   "outputs": [
    {
     "data": {
      "image/png": "[encoded data removed]",
      "text/plain": [
       "<PIL.Image.Image image mode=L size=512x512>"
      ]
     },
     "execution_count": 30,
     "metadata": {},
     "output_type": "execute_result"
    }
   ],
   "source": [
    "def display(img_array):\n",
    "    img_array = img_array.copy()\n",
    "    img_array[img_array > 255] = 255\n",
    "    img_array[img_array < 0] = 0\n",
    "    return Image.fromarray(np.uint8(img_array))\n",
    "\n",
    "display(canvas)"
   ]
  },
  {
   "cell_type": "code",
   "execution_count": 31,
   "metadata": {},
   "outputs": [
    {
     "data": {
      "image/png": "[encoded data removed]",
      "text/plain": [
       "<PIL.Image.Image image mode=L size=512x512>"
      ]
     },
     "execution_count": 31,
     "metadata": {},
     "output_type": "execute_result"
    }
   ],
   "source": [
    "gaussian2d_fft = np.abs(np.fft.fftshift(np.fft.fft2(canvas)))\n",
    "\n",
    "gaussian2d_fft -= np.min(gaussian2d_fft)\n",
    "gaussian2d_fft /= np.max(gaussian2d_fft)\n",
    "gaussian2d_fft *= 255\n",
    "\n",
    "\n",
    "display(gaussian2d_fft)"
   ]
  },
  {
   "cell_type": "code",
   "execution_count": 32,
   "metadata": {},
   "outputs": [
    {
     "data": {
      "text/plain": [
       "(512, 512)"
      ]
     },
     "execution_count": 32,
     "metadata": {},
     "output_type": "execute_result"
    }
   ],
   "source": [
    "gaussian2d_fft.shape"
   ]
  },
  {
   "cell_type": "code",
   "execution_count": 33,
   "metadata": {},
   "outputs": [
    {
     "data": {
      "text/plain": [
       "15.058823529411764"
      ]
     },
     "execution_count": 33,
     "metadata": {},
     "output_type": "execute_result"
    }
   ],
   "source": [
    "half_size = size // 2\n",
    "2/((half_size - np.argmax(gaussian2d_fft[half_size][:half_size])) / half_size)"
   ]
  },
  {
   "cell_type": "code",
   "execution_count": 18,
   "metadata": {},
   "outputs": [
    {
     "data": {
      "image/png": "[encoded data removed]",
      "text/plain": [
       "<PIL.Image.Image image mode=L size=300x300>"
      ]
     },
     "execution_count": 18,
     "metadata": {},
     "output_type": "execute_result"
    }
   ],
   "source": [
    "kernel_size = 3\n",
    "sigma = 1\n",
    "gaussian2d = cv2.getGaussianKernel(kernel_size, sigma) @ cv2.getGaussianKernel(kernel_size, sigma).T\n",
    "\n",
    "\n",
    "stretch = 100\n",
    "displayed_gaussian = np.repeat(np.repeat(gaussian2d, stretch, axis=0), stretch, axis=1) * 255\n",
    "display(displayed_gaussian)"
   ]
  },
  {
   "cell_type": "code",
   "execution_count": 20,
   "metadata": {},
   "outputs": [
    {
     "data": {
      "image/png": "[encoded data removed]",
      "text/plain": [
       "<PIL.Image.Image image mode=L size=300x300>"
      ]
     },
     "execution_count": 20,
     "metadata": {},
     "output_type": "execute_result"
    }
   ],
   "source": [
    "gaussian2d_fft = np.abs(np.fft.fftshift(np.fft.fft2(gaussian2d)))\n",
    "\n",
    "gaussian2d_fft -= np.min(gaussian2d_fft)\n",
    "gaussian2d_fft /= np.max(gaussian2d_fft)\n",
    "gaussian2d_fft *= 255\n",
    "\n",
    "\n",
    "display(gaussian2d_fft)\n",
    "\n",
    "displayed_gaussian_fft = np.repeat(np.repeat(gaussian2d_fft, stretch, axis=0), stretch, axis=1) * 255\n",
    "display(displayed_gaussian_fft)"
   ]
  },
  {
   "cell_type": "code",
   "execution_count": null,
   "metadata": {},
   "outputs": [],
   "source": []
  }
 ],
 "metadata": {
  "kernelspec": {
   "display_name": "qc",
   "language": "python",
   "name": "python3"
  },
  "language_info": {
   "codemirror_mode": {
    "name": "ipython",
    "version": 3
   },
   "file_extension": ".py",
   "mimetype": "text/x-python",
   "name": "python",
   "nbconvert_exporter": "python",
   "pygments_lexer": "ipython3",
   "version": "3.10.9"
  },
  "orig_nbformat": 4
 },
 "nbformat": 4,
 "nbformat_minor": 2
}

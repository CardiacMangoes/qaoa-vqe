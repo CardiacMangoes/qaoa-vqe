{
 "cells": [
  {
   "cell_type": "code",
   "execution_count": 1,
   "metadata": {},
   "outputs": [
    {
     "name": "stderr",
     "output_type": "stream",
     "text": [
      "/var/folders/1z/z41sxch92wz_jmlsyy10q6680000gn/T/ipykernel_11152/2527091702.py:4: DeprecationWarning: The ``qiskit.opflow`` module is deprecated as of qiskit-terra 0.24.0. It will be removed no earlier than 3 months after the release date. For code migration guidelines, visit https://qisk.it/opflow_migration.\n",
      "  from qiskit.opflow import I, X, Y, Z, H\n"
     ]
    }
   ],
   "source": [
    "import numpy as np\n",
    "import sympy as sp\n",
    "\n",
    "from qiskit.opflow import I, X, Y, Z, H"
   ]
  },
  {
   "cell_type": "code",
   "execution_count": 2,
   "metadata": {},
   "outputs": [],
   "source": [
    "p = 1\n",
    "num_qubits = 2\n",
    "\n",
    "gammas = sp.symbols([f\"gamma_{i + 1}\" for i in range(p)], real=True)\n",
    "betas = sp.symbols([f\"beta_{i + 1}\" for i in range(p)], real=True)\n",
    "\n",
    "def plus(num_qubits):\n",
    "    return sp.SparseMatrix(np.ones(2 ** num_qubits)) / sp.sqrt(2 ** num_qubits)"
   ]
  },
  {
   "cell_type": "code",
   "execution_count": 3,
   "metadata": {},
   "outputs": [],
   "source": [
    "y = sp.Matrix((Y).to_matrix())\n",
    "yy = sp.Matrix((Y^Y).to_matrix())\n",
    "yi = sp.Matrix((Y^I).to_matrix())\n",
    "iy = sp.Matrix((I^Y).to_matrix())\n",
    "\n",
    "z = sp.Matrix((Z).to_matrix())\n",
    "zz = sp.Matrix((Z^Z).to_matrix())\n",
    "zi = sp.Matrix((Z^I).to_matrix())\n",
    "iz = sp.Matrix((I^Z).to_matrix())\n",
    "\n",
    "x = sp.Matrix((X).to_matrix())\n",
    "xx = sp.Matrix((X^X).to_matrix())"
   ]
  },
  {
   "cell_type": "code",
   "execution_count": 7,
   "metadata": {},
   "outputs": [
    {
     "data": {
      "text/latex": [
       "$\\displaystyle 2.0 \\cos{\\left(2 \\gamma_{1} \\right)}$"
      ],
      "text/plain": [
       "2.0*cos(2*gamma_1)"
      ]
     },
     "execution_count": 7,
     "metadata": {},
     "output_type": "execute_result"
    }
   ],
   "source": [
    "wavefunction1 = sp.simplify(sp.exp(betas[0] * -1j * y)) @ sp.exp(gammas[0] * -1j * z) @ plus(1)\n",
    "f1 = wavefunction1.adjoint() @ (y) @ wavefunction1\n",
    "f1 = sp.simplify(f1[0])\n",
    "sp.diff(f1, gammas[0])"
   ]
  },
  {
   "cell_type": "code",
   "execution_count": 8,
   "metadata": {},
   "outputs": [
    {
     "data": {
      "text/latex": [
       "$\\displaystyle - 1.0 \\sin{\\left(2 \\gamma_{1} \\right)}$"
      ],
      "text/plain": [
       "-1.0*sin(2*gamma_1)"
      ]
     },
     "execution_count": 8,
     "metadata": {},
     "output_type": "execute_result"
    }
   ],
   "source": [
    "wavefunction1 = sp.simplify(sp.exp(betas[0] * -1j * y)) @ sp.exp(gammas[0] * -1j * z) @ plus(1)\n",
    "wavefunction1 = sp.diff(wavefunction1, gammas[0])\n",
    "f1 = wavefunction1.adjoint() @ (y) @ wavefunction1\n",
    "f1 = sp.simplify(f1[0])\n",
    "f1"
   ]
  },
  {
   "cell_type": "code",
   "execution_count": 5,
   "metadata": {},
   "outputs": [
    {
     "data": {
      "text/latex": [
       "$\\displaystyle 1.0 \\sin{\\left(2 \\gamma_{1} \\right)}$"
      ],
      "text/plain": [
       "1.0*sin(2*gamma_1)"
      ]
     },
     "execution_count": 5,
     "metadata": {},
     "output_type": "execute_result"
    }
   ],
   "source": [
    "wavefunction2 = sp.simplify(sp.exp(betas[0] * -1j * iy)) @ sp.exp(gammas[0] * -1j * iz) @ plus(2)\n",
    "f2 = wavefunction2.adjoint() @ (iy) @ wavefunction2\n",
    "f2 = sp.simplify(f2[0])\n",
    "f2"
   ]
  },
  {
   "cell_type": "code",
   "execution_count": 43,
   "metadata": {},
   "outputs": [
    {
     "data": {
      "text/latex": [
       "$\\displaystyle 0$"
      ],
      "text/plain": [
       "0"
      ]
     },
     "execution_count": 43,
     "metadata": {},
     "output_type": "execute_result"
    }
   ],
   "source": [
    "sp.simplify(f2-f1)"
   ]
  },
  {
   "cell_type": "code",
   "execution_count": 15,
   "metadata": {},
   "outputs": [
    {
     "data": {
      "text/latex": [
       "$\\displaystyle \\sin{\\left(2 \\beta_{1} \\right)} \\cos{\\left(2 \\gamma_{1} \\right)} + \\sin{\\left(2 \\gamma_{1} \\right)}$"
      ],
      "text/plain": [
       "sin(2*beta_1)*cos(2*gamma_1) + sin(2*gamma_1)"
      ]
     },
     "execution_count": 15,
     "metadata": {},
     "output_type": "execute_result"
    }
   ],
   "source": [
    "f = sp.sin(2 * betas[0]) * sp.cos(2 * gammas[0]) + sp.sin(2 * gammas[0])\n",
    "ivl = sp.Interval(0,2*sp.pi)\n",
    "f"
   ]
  },
  {
   "cell_type": "code",
   "execution_count": 23,
   "metadata": {},
   "outputs": [
    {
     "data": {
      "text/latex": [
       "$\\displaystyle \\left\\{\\frac{\\pi}{4}, \\frac{3 \\pi}{4}, \\frac{5 \\pi}{4}, \\frac{7 \\pi}{4}\\right\\}$"
      ],
      "text/plain": [
       "{pi/4, 3*pi/4, 5*pi/4, 7*pi/4}"
      ]
     },
     "execution_count": 23,
     "metadata": {},
     "output_type": "execute_result"
    }
   ],
   "source": [
    "sp.stationary_points(f, betas[0], ivl)"
   ]
  },
  {
   "cell_type": "code",
   "execution_count": 19,
   "metadata": {},
   "outputs": [
    {
     "name": "stdout",
     "output_type": "stream",
     "text": [
      "{3*pi/8, 7*pi/8, 11*pi/8, 15*pi/8}\n",
      "{3*pi/8, 7*pi/8, 11*pi/8, 15*pi/8}\n",
      "{3*pi/8, 7*pi/8, 11*pi/8, 15*pi/8}\n",
      "{3*pi/8, 7*pi/8, 11*pi/8, 15*pi/8}\n"
     ]
    }
   ],
   "source": [
    "for val in sp.stationary_points(f, betas[0], ivl):\n",
    "    print(sp.stationary_points(f.subs(betas[0], sp.pi/4), gammas[0], ivl))"
   ]
  },
  {
   "cell_type": "code",
   "execution_count": 215,
   "metadata": {},
   "outputs": [
    {
     "data": {
      "text/plain": [
       "sympy.sets.conditionset.ConditionSet"
      ]
     },
     "execution_count": 215,
     "metadata": {},
     "output_type": "execute_result"
    }
   ],
   "source": [
    "type(sp.stationary_points(f, gammas[0], ivl))"
   ]
  },
  {
   "cell_type": "code",
   "execution_count": 217,
   "metadata": {},
   "outputs": [
    {
     "data": {
      "text/plain": [
       "True"
      ]
     },
     "execution_count": 217,
     "metadata": {},
     "output_type": "execute_result"
    }
   ],
   "source": [
    "type(sp.stationary_points(f, betas[0], ivl)) == sp.sets.sets.FiniteSet"
   ]
  },
  {
   "cell_type": "code",
   "execution_count": 56,
   "metadata": {},
   "outputs": [
    {
     "data": {
      "text/latex": [
       "$\\displaystyle \\left[\\begin{matrix}0 & 0\\\\0 & 0\\end{matrix}\\right]$"
      ],
      "text/plain": [
       "Matrix([\n",
       "[0, 0],\n",
       "[0, 0]])"
      ]
     },
     "execution_count": 56,
     "metadata": {},
     "output_type": "execute_result"
    }
   ],
   "source": [
    "x @ sp.exp(betas[0] * -1j * y) - sp.exp(betas[0] * 1j * y) @ x"
   ]
  },
  {
   "cell_type": "code",
   "execution_count": 55,
   "metadata": {},
   "outputs": [
    {
     "data": {
      "text/latex": [
       "$\\displaystyle \\left[\\begin{matrix}1.0 \\sin{\\left(\\beta_{1} \\right)} & 1.0 \\cos{\\left(\\beta_{1} \\right)}\\\\1.0 \\cos{\\left(\\beta_{1} \\right)} & - 1.0 \\sin{\\left(\\beta_{1} \\right)}\\end{matrix}\\right]$"
      ],
      "text/plain": [
       "Matrix([\n",
       "[1.0*sin(beta_1),  1.0*cos(beta_1)],\n",
       "[1.0*cos(beta_1), -1.0*sin(beta_1)]])"
      ]
     },
     "execution_count": 55,
     "metadata": {},
     "output_type": "execute_result"
    }
   ],
   "source": []
  },
  {
   "cell_type": "code",
   "execution_count": 60,
   "metadata": {},
   "outputs": [
    {
     "data": {
      "text/latex": [
       "$\\displaystyle \\left[\\begin{matrix}- 1.0 i \\left(- 0.5 e^{i \\gamma_{1}} + 0.5 e^{- i \\gamma_{1}}\\right) & - 1.0 i \\left(0.5 e^{i \\gamma_{1}} + 0.5 e^{- i \\gamma_{1}}\\right)\\\\1.0 i \\left(0.5 e^{i \\gamma_{1}} + 0.5 e^{- i \\gamma_{1}}\\right) & 1.0 i \\left(- 0.5 e^{i \\gamma_{1}} + 0.5 e^{- i \\gamma_{1}}\\right)\\end{matrix}\\right]$"
      ],
      "text/plain": [
       "Matrix([\n",
       "[-1.0*I*(-0.5*exp(I*gamma_1) + 0.5*exp(-I*gamma_1)), -1.0*I*(0.5*exp(I*gamma_1) + 0.5*exp(-I*gamma_1))],\n",
       "[  1.0*I*(0.5*exp(I*gamma_1) + 0.5*exp(-I*gamma_1)), 1.0*I*(-0.5*exp(I*gamma_1) + 0.5*exp(-I*gamma_1))]])"
      ]
     },
     "execution_count": 60,
     "metadata": {},
     "output_type": "execute_result"
    }
   ],
   "source": [
    "x @ sp.exp(gammas[0] * -1j * y)"
   ]
  },
  {
   "cell_type": "code",
   "execution_count": 59,
   "metadata": {},
   "outputs": [
    {
     "data": {
      "text/latex": [
       "$\\displaystyle \\left[\\begin{matrix}1.0 i \\left(0.5 e^{i \\gamma_{1}} - 0.5 e^{- i \\gamma_{1}}\\right) & - 1.0 i \\left(0.5 e^{i \\gamma_{1}} + 0.5 e^{- i \\gamma_{1}}\\right)\\\\1.0 i \\left(0.5 e^{i \\gamma_{1}} + 0.5 e^{- i \\gamma_{1}}\\right) & - 1.0 i \\left(0.5 e^{i \\gamma_{1}} - 0.5 e^{- i \\gamma_{1}}\\right)\\end{matrix}\\right]$"
      ],
      "text/plain": [
       "Matrix([\n",
       "[1.0*I*(0.5*exp(I*gamma_1) - 0.5*exp(-I*gamma_1)), -1.0*I*(0.5*exp(I*gamma_1) + 0.5*exp(-I*gamma_1))],\n",
       "[1.0*I*(0.5*exp(I*gamma_1) + 0.5*exp(-I*gamma_1)), -1.0*I*(0.5*exp(I*gamma_1) - 0.5*exp(-I*gamma_1))]])"
      ]
     },
     "execution_count": 59,
     "metadata": {},
     "output_type": "execute_result"
    }
   ],
   "source": [
    "sp.exp(gammas[0] * 1j * x) @ y\n"
   ]
  },
  {
   "attachments": {},
   "cell_type": "markdown",
   "metadata": {},
   "source": [
    "## Commutator"
   ]
  },
  {
   "cell_type": "code",
   "execution_count": 63,
   "metadata": {},
   "outputs": [
    {
     "data": {
      "text/latex": [
       "$\\displaystyle \\left[\\begin{matrix}2.0 \\sin{\\left(\\gamma_{1} \\right)} & 0\\\\0 & - 2.0 \\sin{\\left(\\gamma_{1} \\right)}\\end{matrix}\\right]$"
      ],
      "text/plain": [
       "Matrix([\n",
       "[2.0*sin(gamma_1),                 0],\n",
       "[               0, -2.0*sin(gamma_1)]])"
      ]
     },
     "execution_count": 63,
     "metadata": {},
     "output_type": "execute_result"
    }
   ],
   "source": [
    "A = sp.exp(gammas[0] * 1j * y)\n",
    "B = x\n",
    "\n",
    "A@B - B@A"
   ]
  },
  {
   "cell_type": "code",
   "execution_count": null,
   "metadata": {},
   "outputs": [],
   "source": []
  }
 ],
 "metadata": {
  "kernelspec": {
   "display_name": "qc",
   "language": "python",
   "name": "python3"
  },
  "language_info": {
   "codemirror_mode": {
    "name": "ipython",
    "version": 3
   },
   "file_extension": ".py",
   "mimetype": "text/x-python",
   "name": "python",
   "nbconvert_exporter": "python",
   "pygments_lexer": "ipython3",
   "version": "3.10.9"
  },
  "orig_nbformat": 4
 },
 "nbformat": 4,
 "nbformat_minor": 2
}
